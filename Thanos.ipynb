{
 "cells": [
  {
   "cell_type": "markdown",
   "metadata": {},
   "source": [
    "# Thanos Project\n",
    "\n",
    "### Solve Thanos Problem"
   ]
  },
  {
   "cell_type": "code",
   "execution_count": 1,
   "metadata": {},
   "outputs": [],
   "source": [
    "import random\n",
    "import os\n",
    "import string\n",
    "import time"
   ]
  },
  {
   "cell_type": "markdown",
   "metadata": {},
   "source": [
    "- read the files inside universe\n",
    "- rename the files randomly"
   ]
  },
  {
   "cell_type": "code",
   "execution_count": 2,
   "metadata": {},
   "outputs": [
    {
     "data": {
      "text/plain": [
       "['cover001.png',\n",
       " 'cover002.png',\n",
       " 'cover008.png',\n",
       " 'cover009.png',\n",
       " 'cover011.png',\n",
       " 'cover013.png',\n",
       " 'cover015.png',\n",
       " 'cover022.png',\n",
       " 'cover023.png',\n",
       " 'cover024.png',\n",
       " 'cover025.png',\n",
       " 'cover026.png',\n",
       " 'cover028.png',\n",
       " 'cover029.png',\n",
       " 'cover032.png',\n",
       " 'cover033.png',\n",
       " 'cover035.png',\n",
       " 'cover039.png',\n",
       " 'cover041.png',\n",
       " 'cover042.png',\n",
       " 'cover044.png',\n",
       " 'cover045.png',\n",
       " 'cover046.png',\n",
       " 'cover048.png',\n",
       " 'cover050.png']"
      ]
     },
     "execution_count": 2,
     "metadata": {},
     "output_type": "execute_result"
    }
   ],
   "source": [
    "os.listdir('universe')"
   ]
  },
  {
   "cell_type": "code",
   "execution_count": 3,
   "metadata": {},
   "outputs": [],
   "source": [
    "def get_universe_people(place):\n",
    "    people = os.listdir(place)\n",
    "    return people"
   ]
  },
  {
   "cell_type": "code",
   "execution_count": 4,
   "metadata": {},
   "outputs": [
    {
     "data": {
      "text/plain": [
       "['cover001.png',\n",
       " 'cover002.png',\n",
       " 'cover008.png',\n",
       " 'cover009.png',\n",
       " 'cover011.png',\n",
       " 'cover013.png',\n",
       " 'cover015.png',\n",
       " 'cover022.png',\n",
       " 'cover023.png',\n",
       " 'cover024.png',\n",
       " 'cover025.png',\n",
       " 'cover026.png',\n",
       " 'cover028.png',\n",
       " 'cover029.png',\n",
       " 'cover032.png',\n",
       " 'cover033.png',\n",
       " 'cover035.png',\n",
       " 'cover039.png',\n",
       " 'cover041.png',\n",
       " 'cover042.png',\n",
       " 'cover044.png',\n",
       " 'cover045.png',\n",
       " 'cover046.png',\n",
       " 'cover048.png',\n",
       " 'cover050.png']"
      ]
     },
     "execution_count": 4,
     "metadata": {},
     "output_type": "execute_result"
    }
   ],
   "source": [
    "universe= get_universe_people('universe')\n",
    "universe"
   ]
  },
  {
   "cell_type": "code",
   "execution_count": 5,
   "metadata": {},
   "outputs": [],
   "source": [
    "def rename_image(universe):\n",
    "    num = 1\n",
    "    for r in universe:\n",
    "        \n",
    "        new_name= 'pic'+str(num)+'.png'\n",
    "             \n",
    "        random_file = r\n",
    "        os.replace('D://test-main//rename-files//universe/'+random_file,'D://test-main//rename-files//universe/'+new_name)\n",
    "        \n",
    "        num +=1"
   ]
  },
  {
   "cell_type": "code",
   "execution_count": 6,
   "metadata": {},
   "outputs": [
    {
     "data": {
      "text/plain": [
       "<function __main__.rename_image(universe)>"
      ]
     },
     "execution_count": 6,
     "metadata": {},
     "output_type": "execute_result"
    }
   ],
   "source": [
    "rename_image(universe)\n",
    "rename_image"
   ]
  }
 ],
 "metadata": {
  "interpreter": {
   "hash": "51dee32f72460c1968ccb56acdb8dc345fee5632e2c1d6676fb9b0f0f4b815ef"
  },
  "kernelspec": {
   "display_name": "Python 3.9.6 64-bit",
   "language": "python",
   "name": "python3"
  },
  "language_info": {
   "codemirror_mode": {
    "name": "ipython",
    "version": 3
   },
   "file_extension": ".py",
   "mimetype": "text/x-python",
   "name": "python",
   "nbconvert_exporter": "python",
   "pygments_lexer": "ipython3",
   "version": "3.8.8"
  },
  "orig_nbformat": 4
 },
 "nbformat": 4,
 "nbformat_minor": 2
}
